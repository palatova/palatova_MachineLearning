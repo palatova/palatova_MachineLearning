{
 "cells": [
  {
   "cell_type": "code",
   "execution_count": 19,
   "metadata": {},
   "outputs": [
    {
     "name": "stdout",
     "output_type": "stream",
     "text": [
      "0.655\n",
      "0.845\n",
      "0.18999999999999995\n"
     ]
    },
    {
     "name": "stderr",
     "output_type": "stream",
     "text": [
      "C:\\pyp2\\lib\\site-packages\\sklearn\\linear_model\\stochastic_gradient.py:183: FutureWarning: max_iter and tol parameters have been added in Perceptron in 0.19. If max_iter is set but tol is left unset, the default value for tol in 0.19 and 0.20 will be None (which is equivalent to -infinity, so it has no effect) but will change in 0.21 to 1e-3. Specify tol to silence this warning.\n",
      "  FutureWarning)\n",
      "C:\\pyp2\\lib\\site-packages\\sklearn\\linear_model\\stochastic_gradient.py:183: FutureWarning: max_iter and tol parameters have been added in Perceptron in 0.19. If max_iter is set but tol is left unset, the default value for tol in 0.19 and 0.20 will be None (which is equivalent to -infinity, so it has no effect) but will change in 0.21 to 1e-3. Specify tol to silence this warning.\n",
      "  FutureWarning)\n"
     ]
    }
   ],
   "source": [
    "#задание 2 недели(№3)\n",
    "import numpy as np\n",
    "import pandas\n",
    "from sklearn.neighbors import KNeighborsClassifier\n",
    "from sklearn.model_selection import cross_val_score\n",
    "from sklearn.model_selection import KFold\n",
    "from sklearn import preprocessing\n",
    "from sklearn.datasets import load_boston\n",
    "from sklearn.neighbors import KNeighborsRegressor\n",
    "data_train = pandas.read_csv(\"perceptron-train.csv\",header = None)\n",
    "target_train=data_train.iloc[:,0]\n",
    "priznaki_train=data_train.iloc[:,1:3]\n",
    "\n",
    "data_test=pandas.read_csv(\"perceptron-test.csv\",header = None)\n",
    "target_test=data_test.iloc[:,0]\n",
    "priznaki_test=data_test.iloc[:,1:3]\n",
    "\n",
    "\n",
    "from sklearn.linear_model import Perceptron\n",
    "clf = Perceptron(random_state=241, max_iter=5, tol=None)\n",
    "clf.fit(priznaki_train, target_train)\n",
    "predictions = clf.predict(priznaki_test)\n",
    "from sklearn.metrics import accuracy_score\n",
    "accuracy=accuracy_score(target_test, predictions)\n",
    "print(accuracy)\n",
    "\n",
    "\n",
    "from sklearn.preprocessing import StandardScaler\n",
    "scaler = StandardScaler()\n",
    "priznaki_train_scaled = scaler.fit_transform(priznaki_train)\n",
    "priznaki_test_scaled = scaler.transform(priznaki_test)\n",
    "\n",
    "clf_as = Perceptron(random_state=241, max_iter=5, tol=None)\n",
    "clf_as.fit(priznaki_train_scaled, target_train)\n",
    "predictions_as = clf_as.predict(priznaki_test_scaled)\n",
    "accuracy_as=accuracy_score(target_test, predictions_as)\n",
    "print(accuracy_as)\n",
    "print(accuracy_as-accuracy)\n"
   ]
  },
  {
   "cell_type": "code",
   "execution_count": 50,
   "metadata": {},
   "outputs": [
    {
     "name": "stdout",
     "output_type": "stream",
     "text": [
      "[56555.61500155 37188.32442618]\n"
     ]
    }
   ],
   "source": [
    "#задание 4 недели\n",
    "import numpy as np\n",
    "import pandas\n",
    "from sklearn.feature_extraction.text import TfidfVectorizer\n",
    "from sklearn.linear_model import Ridge\n",
    "from sklearn.feature_extraction import DictVectorizer\n",
    "from scipy.sparse import coo_matrix, hstack\n",
    "data_train = pandas.read_csv(\"salary-train.csv\")\n",
    "data_test=pandas.read_csv(\"salary-test-mini.csv\")\n",
    "cnt=0\n",
    "for i in data_train['FullDescription']:\n",
    "    data_train['FullDescription'][cnt].lower()\n",
    "    cnt+=1   \n",
    "data_train['FullDescription'] = data_train['FullDescription'].replace('[^a-zA-Z0-9]', ' ', regex = True)\n",
    "vectorizer = TfidfVectorizer(min_df=5)\n",
    "X_train = vectorizer.fit_transform(data_train['FullDescription'])\n",
    "X_test=vectorizer.transform(data_test['FullDescription'])\n",
    "data_train['LocationNormalized'].fillna('nan', inplace=True)\n",
    "data_train['ContractTime'].fillna('nan', inplace=True)\n",
    "enc = DictVectorizer()\n",
    "X_train_categ = enc.fit_transform(data_train[['LocationNormalized', 'ContractTime']].to_dict('records'))\n",
    "X_test_categ = enc.transform(data_test[['LocationNormalized', 'ContractTime']].to_dict('records'))\n",
    "#объединяем преобразованнные столбцы признаков в одну матрицу\n",
    "X_train_f=hstack([X_train,X_train_categ])\n",
    "X_test_f=hstack([X_test,X_test_categ])\n",
    "Y=data_train['SalaryNormalized']\n",
    "clf = Ridge(alpha=1.0,random_state=241)\n",
    "clf.fit(X_train_f, Y)\n",
    "print(clf.predict(X_test_f))\n",
    "\n",
    "\n"
   ]
  },
  {
   "cell_type": "code",
   "execution_count": 158,
   "metadata": {},
   "outputs": [
    {
     "name": "stdout",
     "output_type": "stream",
     "text": [
      "[0.73897118 0.11007169 0.04995088 0.0287492  0.02215448 0.01931577\n",
      " 0.00674853 0.00614091 0.00320594 0.00305611]\n",
      "0.579683945747361\n",
      "27\n",
      "Index(['date', 'AXP', 'BA', 'CAT', 'CSCO', 'CVX', 'DD', 'DIS', 'GE', 'GS',\n",
      "       'HD', 'IBM', 'INTC', 'JNJ', 'JPM', 'KO', 'MCD', 'MMM', 'MRK', 'MSFT',\n",
      "       'NKE', 'PFE', 'PG', 'T', 'TRV', 'UNH', 'UTX', 'V', 'VZ', 'WMT', 'XOM'],\n",
      "      dtype='object')\n",
      "V\n"
     ]
    }
   ],
   "source": [
    "import numpy as np\n",
    "import pandas\n",
    "from sklearn.decomposition import PCA\n",
    "from numpy import corrcoef\n",
    "data_train = pandas.read_csv(\"close_prices.csv\")\n",
    "X=data_train.iloc[:,1:36]\n",
    "pca = PCA(n_components=10)\n",
    "pca.fit(X) \n",
    "#вычисляем вклад в дисперсию каждой компоненты\n",
    "print(pca.explained_variance_ratio_) \n",
    "#применяем построенное преобразование к исходным данным\n",
    "t=pca.transform(X) \n",
    "#print(t[:,[0]])\n",
    "#проверяем значение первого компонента\n",
    "X_f=t[:,[0]]\n",
    "X_f=X_f.T\n",
    "#чекаем коэф корелляции между первой компонентой и индексом\n",
    "index_info=pandas.read_csv(\"djia_index.csv\")\n",
    "ii=index_info.iloc[:,1]\n",
    "ii=ii.T\n",
    "coef_correlation=np.corrcoef(X_f,ii)\n",
    "#смотрим какая компания внесла наибольший вклад\n",
    "vesa=pca.components_[0]\n",
    "max1=vesa[0]\n",
    "cnt=0\n",
    "sh=0\n",
    "for i in vesa:\n",
    "    if max1<i:\n",
    "        max1=i\n",
    "        sh=cnt+1\n",
    "    cnt+=1\n",
    "\n",
    "print(max1)        \n",
    "print(sh)\n",
    "print(data_train.columns)\n",
    "print(data_train.columns[27])\n"
   ]
  },
  {
   "cell_type": "code",
   "execution_count": null,
   "metadata": {},
   "outputs": [],
   "source": []
  },
  {
   "cell_type": "code",
   "execution_count": 191,
   "metadata": {},
   "outputs": [
    {
     "ename": "IndexError",
     "evalue": "index 50 is out of bounds for axis 0 with size 50",
     "output_type": "error",
     "traceback": [
      "\u001b[1;31m---------------------------------------------------------------------------\u001b[0m",
      "\u001b[1;31mIndexError\u001b[0m                                Traceback (most recent call last)",
      "\u001b[1;32m<ipython-input-191-0eb1dd4d8d49>\u001b[0m in \u001b[0;36m<module>\u001b[1;34m\u001b[0m\n\u001b[0;32m     21\u001b[0m     \u001b[0mpredictions\u001b[0m\u001b[1;33m=\u001b[0m\u001b[0mclf\u001b[0m\u001b[1;33m.\u001b[0m\u001b[0mpredict\u001b[0m\u001b[1;33m(\u001b[0m\u001b[0mpriznaki\u001b[0m\u001b[1;33m)\u001b[0m\u001b[1;33m\u001b[0m\u001b[1;33m\u001b[0m\u001b[0m\n\u001b[0;32m     22\u001b[0m     \u001b[0mcross_val\u001b[0m \u001b[1;33m=\u001b[0m \u001b[0mnp\u001b[0m\u001b[1;33m.\u001b[0m\u001b[0mmean\u001b[0m\u001b[1;33m(\u001b[0m\u001b[0mcross_val_score\u001b[0m\u001b[1;33m(\u001b[0m\u001b[0mclf\u001b[0m\u001b[1;33m,\u001b[0m\u001b[0mpriznaki\u001b[0m\u001b[1;33m,\u001b[0m \u001b[0mtarget\u001b[0m\u001b[1;33m,\u001b[0m \u001b[0mcv\u001b[0m\u001b[1;33m=\u001b[0m\u001b[0mcv\u001b[0m\u001b[1;33m,\u001b[0m\u001b[0mscoring\u001b[0m\u001b[1;33m=\u001b[0m\u001b[1;34m'r2'\u001b[0m\u001b[1;33m)\u001b[0m\u001b[1;33m)\u001b[0m\u001b[1;33m\u001b[0m\u001b[1;33m\u001b[0m\u001b[0m\n\u001b[1;32m---> 23\u001b[1;33m     \u001b[0marr\u001b[0m\u001b[1;33m[\u001b[0m\u001b[0mcnt\u001b[0m\u001b[1;33m]\u001b[0m\u001b[1;33m=\u001b[0m\u001b[0mcross_val\u001b[0m\u001b[1;33m\u001b[0m\u001b[1;33m\u001b[0m\u001b[0m\n\u001b[0m\u001b[0;32m     24\u001b[0m     \u001b[1;32mif\u001b[0m \u001b[0mcross_val\u001b[0m \u001b[1;33m>\u001b[0m \u001b[1;36m0.52\u001b[0m\u001b[1;33m:\u001b[0m\u001b[1;33m\u001b[0m\u001b[1;33m\u001b[0m\u001b[0m\n\u001b[0;32m     25\u001b[0m         \u001b[1;32mif\u001b[0m \u001b[0mshk\u001b[0m\u001b[1;33m>\u001b[0m\u001b[0mcnt\u001b[0m\u001b[1;33m+\u001b[0m\u001b[1;36m1\u001b[0m\u001b[1;33m:\u001b[0m\u001b[1;33m\u001b[0m\u001b[1;33m\u001b[0m\u001b[0m\n",
      "\u001b[1;31mIndexError\u001b[0m: index 50 is out of bounds for axis 0 with size 50"
     ]
    }
   ],
   "source": [
    "#задание 5 недели\n",
    "import numpy as np\n",
    "import pandas\n",
    "from sklearn.metrics import r2_score\n",
    "from sklearn.ensemble import RandomForestRegressor\n",
    "from sklearn.datasets import make_regression\n",
    "from sklearn.model_selection import cross_val_score\n",
    "from sklearn.model_selection import KFold\n",
    "data=pandas.read_csv(\"abalone.csv\")\n",
    "target=data.iloc[:,8]\n",
    "priznaki=data.iloc[:,0:8]\n",
    "priznaki['Sex'] = priznaki['Sex'].map(lambda x: 1 if x == 'M' else (-1 if x == 'F' else 0))\n",
    "predictions=0\n",
    "arr=np.arange(51)\n",
    "cnt=0\n",
    "shk=54\n",
    "cv = KFold(n_splits=5, shuffle=True, random_state=1)\n",
    "while cnt<51:\n",
    "    clf = RandomForestRegressor(n_estimators=cnt+1, random_state=1)\n",
    "    clf.fit(priznaki, target)\n",
    "    predictions=clf.predict(priznaki)\n",
    "    cross_val = np.mean(cross_val_score(clf,priznaki, target, cv=cv,scoring='r2'))\n",
    "    arr[cnt]=cross_val\n",
    "    if cross_val > 0.52:\n",
    "        if shk>cnt+1:\n",
    "            shk=cnt+1\n",
    "    cnt+=1\n",
    "print(shk)\n",
    "print(arr)\n"
   ]
  },
  {
   "cell_type": "code",
   "execution_count": 260,
   "metadata": {},
   "outputs": [
    {
     "name": "stdout",
     "output_type": "stream",
     "text": [
      "      Iter       Train Loss   Remaining Time \n",
      "         1           1.0190           16.14s\n",
      "         2           0.9192           16.20s\n",
      "         3           0.8272           14.86s\n",
      "         4           0.7834           15.76s\n",
      "         5           0.7109           15.49s\n",
      "         6           0.6368           15.57s\n",
      "         7           0.5797           15.10s\n",
      "         8           0.5610           14.39s\n",
      "         9           0.5185           14.13s\n",
      "        10           0.4984           14.24s\n",
      "        20           0.1999           12.87s\n",
      "        30           0.1313           12.23s\n",
      "        40           0.0790           11.55s\n",
      "        50           0.0511           10.80s\n",
      "        60           0.0352           10.05s\n",
      "        70           0.0245            9.30s\n",
      "        80           0.0162            8.71s\n",
      "        90           0.0114            8.09s\n",
      "       100           0.0077            7.59s\n",
      "       200           0.0004            2.16s\n"
     ]
    },
    {
     "data": {
      "image/png": "[encoded data removed]",
      "text/plain": [
       "<Figure size 432x288 with 1 Axes>"
      ]
     },
     "metadata": {
      "needs_background": "light"
     },
     "output_type": "display_data"
    },
    {
     "name": "stdout",
     "output_type": "stream",
     "text": [
      "      Iter       Train Loss   Remaining Time \n",
      "         1           1.1255           18.63s\n",
      "         2           1.0035           16.94s\n",
      "         3           0.9386           16.09s\n",
      "         4           0.8844           15.52s\n",
      "         5           0.8381           15.25s\n",
      "         6           0.7995           14.64s\n",
      "         7           0.7559           14.06s\n",
      "         8           0.7205           13.70s\n",
      "         9           0.6958           13.86s\n",
      "        10           0.6725           13.57s\n",
      "        20           0.4672           12.03s\n",
      "        30           0.3179           11.36s\n",
      "        40           0.2274           10.81s\n",
      "        50           0.1774           10.15s\n",
      "        60           0.1394            9.63s\n",
      "        70           0.1050            9.09s\n",
      "        80           0.0805            8.51s\n",
      "        90           0.0650            7.96s\n",
      "       100           0.0511            7.46s\n",
      "       200           0.0058            2.37s\n"
     ]
    },
    {
     "data": {
      "image/png": "[encoded data removed]",
      "text/plain": [
       "<Figure size 432x288 with 1 Axes>"
      ]
     },
     "metadata": {
      "needs_background": "light"
     },
     "output_type": "display_data"
    },
    {
     "name": "stdout",
     "output_type": "stream",
     "text": [
      "      Iter       Train Loss   Remaining Time \n",
      "         1           1.2095           18.38s\n",
      "         2           1.1006           16.70s\n",
      "         3           1.0240           15.52s\n",
      "         4           0.9729           16.01s\n",
      "         5           0.9387           14.81s\n",
      "         6           0.8948           14.80s\n",
      "         7           0.8621           14.51s\n",
      "         8           0.8360           14.18s\n",
      "         9           0.8171           14.18s\n",
      "        10           0.7883           13.91s\n",
      "        20           0.6164           11.86s\n",
      "        30           0.4933           10.94s\n",
      "        40           0.4248           10.19s\n",
      "        50           0.3345            9.75s\n",
      "        60           0.2760            9.30s\n",
      "        70           0.2263            8.80s\n",
      "        80           0.1971            8.24s\n",
      "        90           0.1693            7.74s\n",
      "       100           0.1388            7.39s\n",
      "       200           0.0294            2.41s\n"
     ]
    },
    {
     "data": {
      "image/png": "[encoded data removed]",
      "text/plain": [
       "<Figure size 432x288 with 1 Axes>"
      ]
     },
     "metadata": {
      "needs_background": "light"
     },
     "output_type": "display_data"
    },
    {
     "name": "stdout",
     "output_type": "stream",
     "text": [
      "      Iter       Train Loss   Remaining Time \n",
      "         1           1.2613           19.87s\n",
      "         2           1.1715           19.29s\n",
      "         3           1.1009           17.98s\n",
      "         4           1.0529           18.03s\n",
      "         5           1.0130           17.30s\n",
      "         6           0.9740           16.71s\n",
      "         7           0.9475           16.34s\n",
      "         8           0.9197           16.08s\n",
      "         9           0.8979           15.44s\n",
      "        10           0.8730           15.20s\n",
      "        20           0.7207           12.62s\n",
      "        30           0.6055           11.37s\n",
      "        40           0.5244           10.47s\n",
      "        50           0.4501            9.83s\n",
      "        60           0.3908            9.23s\n",
      "        70           0.3372            8.84s\n",
      "        80           0.3009            8.42s\n",
      "        90           0.2603            8.07s\n",
      "       100           0.2327            7.87s\n",
      "       200           0.0835            2.45s\n"
     ]
    },
    {
     "data": {
      "image/png": "[encoded data removed]",
      "text/plain": [
       "<Figure size 432x288 with 1 Axes>"
      ]
     },
     "metadata": {
      "needs_background": "light"
     },
     "output_type": "display_data"
    },
    {
     "name": "stdout",
     "output_type": "stream",
     "text": [
      "      Iter       Train Loss   Remaining Time \n",
      "         1           1.3199           18.63s\n",
      "         2           1.2645           16.70s\n",
      "         3           1.2170           16.09s\n",
      "         4           1.1775           16.32s\n",
      "         5           1.1404           16.32s\n",
      "         6           1.1106           16.10s\n",
      "         7           1.0844           16.31s\n",
      "         8           1.0617           16.11s\n",
      "         9           1.0411           15.89s\n",
      "        10           1.0223           15.80s\n",
      "        20           0.8864           14.66s\n",
      "        30           0.7844           13.04s\n",
      "        40           0.7176           11.91s\n",
      "        50           0.6590           10.93s\n",
      "        60           0.6120           10.08s\n",
      "        70           0.5599            9.53s\n",
      "        80           0.5242            8.85s\n",
      "        90           0.4829            8.80s\n",
      "       100           0.4473            8.23s\n",
      "       200           0.2379            2.58s\n"
     ]
    },
    {
     "data": {
      "image/png": "[encoded data removed]",
      "text/plain": [
       "<Figure size 432x288 with 1 Axes>"
      ]
     },
     "metadata": {
      "needs_background": "light"
     },
     "output_type": "display_data"
    },
    {
     "name": "stdout",
     "output_type": "stream",
     "text": [
      "      Iter       Train Loss   Remaining Time \n",
      "         1           1.2613           20.61s\n",
      "         2           1.1715           18.30s\n",
      "         3           1.1009           17.41s\n",
      "         4           1.0529           17.73s\n",
      "         5           1.0130           17.25s\n",
      "         6           0.9740           16.87s\n",
      "         7           0.9475           16.10s\n",
      "         8           0.9197           16.50s\n",
      "         9           0.8979           16.29s\n",
      "        10           0.8730           16.23s\n",
      "        20           0.7207           13.29s\n",
      "        30           0.6055           12.18s\n",
      "        40           0.5244           11.52s\n",
      "        50           0.4501           10.78s\n",
      "        60           0.3908           10.18s\n",
      "        70           0.3372            9.55s\n",
      "        80           0.3009            9.16s\n",
      "        90           0.2603            8.59s\n",
      "       100           0.2327            8.07s\n",
      "       200           0.0835            2.62s\n",
      "0.531094637596885\n",
      "786\n",
      "36\n"
     ]
    }
   ],
   "source": [
    "#задание 5 неделя №2\n",
    "import numpy as np\n",
    "import pandas\n",
    "from sklearn.ensemble import GradientBoostingClassifier\n",
    "from sklearn.model_selection import train_test_split\n",
    "from sklearn.metrics import log_loss\n",
    "import matplotlib.pyplot as plt\n",
    "data=pandas.read_csv(\"gbm-data.csv\").values\n",
    "test_loss = []\n",
    "train_loss = []\n",
    "\n",
    "min_ll=1900\n",
    "X_train, X_test, Y_train, Y_test = train_test_split(data[:,1:], data[:,0], test_size=0.8, random_state=241)\n",
    "arr=[1, 0.5, 0.3, 0.2, 0.1]\n",
    "cnt=0\n",
    "iter_=0\n",
    "for i in arr:\n",
    "    clf = GradientBoostingClassifier( n_estimators=250,verbose=True,random_state=241,learning_rate=i)\n",
    "    clf.fit(X_train, Y_train)\n",
    "    a=clf.staged_decision_function(X_test)\n",
    "    b=clf.staged_decision_function(X_train)\n",
    "    for y_pred in clf.staged_decision_function(X_test):\n",
    "        log_loss1=log_loss(Y_test,1.0 / (1.0 + np.exp(-y_pred)))\n",
    "        test_loss.append(log_loss(Y_test, 1.0 / (1.0 + np.exp(-y_pred))))\n",
    "        iter_+=1   \n",
    "        if i==0.2:\n",
    "            if log_loss1 < min_ll:\n",
    "                min_ll=log_loss1\n",
    "                cnt=iter_           \n",
    "            \n",
    "    for y_pred in clf.staged_decision_function(X_train):\n",
    "        train_loss.append(log_loss(Y_train, 1.0 / (1.0 + np.exp(-y_pred))))\n",
    "    plt.figure()\n",
    "    plt.plot(test_loss, 'r', linewidth=2)\n",
    "    plt.plot(train_loss, 'g', linewidth=2)\n",
    "    plt.legend(['test', 'train'])\n",
    "    plt.show()\n",
    "\n",
    "def get_loss(clf, X, y):\n",
    "    loss = []\n",
    "    # Используйте метод staged_decision_function для предсказания качества\n",
    "    # на обучающей и тестовой выборке на каждой итерации.\n",
    "    for y_pred in clf.staged_decision_function(X):\n",
    "        # Вычислите и постройте график значений log-loss (которую можно посчитать с помощью функции\n",
    "        # sklearn.metrics.log_loss) на обучающей и тестовой выборках, а также найдите минимальное значение метрики\n",
    "        #  и номер итерации, на которой оно достигается.\n",
    "        loss.append(log_loss(y, 1.0 / (1.0 + np.exp(-y_pred))))\n",
    "\n",
    "    min_iter = np.argmin(loss)\n",
    "    min_loss = loss[min_iter]\n",
    "    return min_iter, min_loss\n",
    "clf = GradientBoostingClassifier( n_estimators=250,verbose=True,random_state=241,learning_rate=0.2)\n",
    "clf.fit(X_train, Y_train)\n",
    "cnt1=0\n",
    "cnt1,min_ll=get_loss(clf,X_test,Y_test)    \n",
    "cnt=test_loss.index(min_ll)        \n",
    "print(min_ll)\n",
    "print(cnt)  \n",
    "print(cnt1)\n",
    "\n",
    "\n"
   ]
  },
  {
   "cell_type": "code",
   "execution_count": 263,
   "metadata": {},
   "outputs": [
    {
     "name": "stdout",
     "output_type": "stream",
     "text": [
      "0.5415685811957381\n"
     ]
    }
   ],
   "source": [
    "from sklearn.ensemble import RandomForestClassifier\n",
    "clf = RandomForestClassifier(n_estimators=36,random_state=241)\n",
    "data=pandas.read_csv(\"gbm-data.csv\").values\n",
    "clf.fit(X_train,Y_train)\n",
    "X_train, X_test, Y_train, Y_test = train_test_split(data[:,1:], data[:,0], test_size=0.8, random_state=241)\n",
    "y_pred=clf.predict_proba(X_test)\n",
    "log_loss1=log_loss(Y_test,y_pred)\n",
    "print(log_loss1)"
   ]
  },
  {
   "cell_type": "code",
   "execution_count": 251,
   "metadata": {},
   "outputs": [
    {
     "name": "stdout",
     "output_type": "stream",
     "text": [
      "      Iter       Train Loss   Remaining Time \n",
      "         1           1.2613           16.90s\n",
      "         2           1.1715           15.96s\n",
      "         3           1.1009           15.69s\n",
      "         4           1.0529           16.26s\n",
      "         5           1.0130           16.03s\n",
      "         6           0.9740           15.86s\n",
      "         7           0.9475           15.10s\n",
      "         8           0.9197           15.03s\n",
      "         9           0.8979           15.01s\n",
      "        10           0.8730           14.91s\n",
      "        20           0.7207           12.33s\n",
      "        30           0.6055           11.65s\n",
      "        40           0.5244           11.05s\n",
      "        50           0.4501           10.36s\n",
      "        60           0.3908            9.83s\n",
      "        70           0.3372            9.26s\n",
      "        80           0.3009            8.75s\n",
      "        90           0.2603            8.33s\n",
      "       100           0.2327            7.73s\n",
      "       200           0.0835            2.39s\n",
      "0\n",
      "0\n"
     ]
    },
    {
     "data": {
      "image/png": "[encoded data removed]",
      "text/plain": [
       "<Figure size 432x288 with 1 Axes>"
      ]
     },
     "metadata": {
      "needs_background": "light"
     },
     "output_type": "display_data"
    }
   ],
   "source": [
    "data = pandas.read_csv('gbm-data.csv')\n",
    "Y = data[data.columns[0]].values\n",
    "X = data[data.columns[1:]].values\n",
    "\n",
    "X_train, X_test, Y_train, Y_test = train_test_split(X, Y, test_size=0.8, random_state=241)\n",
    "# train_loss = np.arange(1, 251)\n",
    "test_loss = np.arange(1, 251)\n",
    "booster = GradientBoostingClassifier(n_estimators=250, learning_rate=0.2, random_state=241, verbose=True)\n",
    "booster.fit(X_train, Y_train)\n",
    "#for i, y_pred_train in enumerate(booster.staged_predict_proba(X_train)):\n",
    "   # train_loss[i] = metrics.log_loss(Y_train, y_pred_train)\n",
    "for m, y_decision in enumerate(booster.staged_decision_function(X_test)):\n",
    "    y_pred_test = 1.0/(1.0 + np.exp(-y_decision))\n",
    "    test_loss[m] = log_loss(Y_test, y_pred_test)\n",
    "print(test_loss.max())\n",
    "print(test_loss.min())\n",
    "plt.figure()\n",
    "# plt.plot(train_loss, 'g', linewidth=2)\n",
    "plt.plot(test_loss, 'r', linewidth=2)\n",
    "#plt.legend(['train', 'test'])\n",
    "plt.show()"
   ]
  },
  {
   "cell_type": "code",
   "execution_count": 5,
   "metadata": {},
   "outputs": [
    {
     "name": "stdout",
     "output_type": "stream",
     "text": [
      "[3 4 9]\n"
     ]
    }
   ],
   "source": [
    "import numpy as np\n",
    "import pandas\n",
    "from sklearn.svm import SVC\n",
    "data=pandas.read_csv(\"svm-data.csv\", header=None)\n",
    "target=data.iloc[:,0]\n",
    "priznaki=data.iloc[:,1:3]\n",
    "clf = SVC(kernel='linear',random_state=241,C=100000)\n",
    "clf.fit(priznaki,target)\n",
    "print(clf.support_)"
   ]
  },
  {
   "cell_type": "code",
   "execution_count": 48,
   "metadata": {},
   "outputs": [
    {
     "name": "stdout",
     "output_type": "stream",
     "text": [
      "commiting\n",
      "rdb\n",
      "decreace\n",
      "decreased\n",
      "rcst1a06465\n",
      "rcst1a06450\n",
      "rcst1a06435\n",
      "decreed\n",
      "rcst1a06420\n",
      "rcst1a06415\n"
     ]
    }
   ],
   "source": [
    "import numpy as np\n",
    "import pandas\n",
    "from sklearn.feature_extraction.text import TfidfVectorizer\n",
    "from sklearn.model_selection import KFold\n",
    "from sklearn import svm, datasets\n",
    "from sklearn.model_selection import GridSearchCV\n",
    "from sklearn.model_selection import learning_curve\n",
    "from sklearn.svm import SVC\n",
    "\n",
    "newsgroups = datasets.fetch_20newsgroups(\n",
    "                    subset='all', \n",
    "                    categories=['alt.atheism', 'sci.space']\n",
    "             )\n",
    "#вычисление TF-IDF\n",
    "vectorizer = TfidfVectorizer()\n",
    "X_train = vectorizer.fit_transform(newsgroups.data)\n",
    "X_test=vectorizer.transform(newsgroups.data)\n",
    "#подбор параметров\n",
    "grid = {'C': np.power(10.0, np.arange(-5, 5))}\n",
    "cv = KFold(n_splits=5, shuffle=True, random_state=241)\n",
    "clf = svm.SVC(kernel='linear', random_state=241)\n",
    "gs = GridSearchCV(clf, grid, scoring='accuracy', cv=cv)\n",
    "gs.fit(X_train, newsgroups.target)\n",
    "#вычисляем, какой параметр C при наилучшей оценке качества кросс-валидации\n",
    "C_best=gs.best_estimator_.C\n",
    "clf1 = SVC(kernel='linear',random_state=241,C=C_best)\n",
    "#обучаем с лучшим параметром C\n",
    "clf.fit(X_test,newsgroups.target)\n",
    "top10idx = np.array(clf.coef_.indices)[np.abs(np.array(clf.coef_.data)).argsort()[-10:]]\n",
    "#arr_coef=clf.coef_.toarray()[0]\n",
    "#idx = (abs(arr_coef)).argsort()[:10]\n",
    "feature_mapping = vectorizer.get_feature_names()\n",
    "for i in top10idx:\n",
    "    print(feature_mapping[i])\n",
    "   "
   ]
  },
  {
   "cell_type": "code",
   "execution_count": 195,
   "metadata": {},
   "outputs": [],
   "source": [
    "#задание №3 неделя 3\n",
    "import numpy as np\n",
    "import pandas\n",
    "import matplotlib.pyplot as plt\n",
    "from sklearn.utils import shuffle\n",
    "from datetime import datetime\n",
    "data=pandas.read_csv(\"data-logistic.csv\", header=None)\n",
    "target=data.iloc[:,0]\n",
    "priznaki=data.iloc[:,1:3]\n"
   ]
  },
  {
   "cell_type": "code",
   "execution_count": 229,
   "metadata": {},
   "outputs": [
    {
     "name": "stdout",
     "output_type": "stream",
     "text": [
      "0.024819781681715933 0.02859493642710939\n",
      "0.927142857142857\n",
      "0.9363809523809522\n"
     ]
    }
   ],
   "source": [
    "import numpy as np\n",
    "import pandas\n",
    "from sklearn.linear_model import LogisticRegression\n",
    "import math\n",
    "from sklearn.metrics import roc_auc_score\n",
    "data=pandas.read_csv(\"data-logistic.csv\", header=None)\n",
    "target=data.iloc[:,0]\n",
    "pr_1=data.iloc[:,1]\n",
    "pr_2=data.iloc[:,2]\n",
    "w1=0.0\n",
    "w2=0.0\n",
    "k=0.1\n",
    "C=0\n",
    "def Sigmoid(a):\n",
    "    s=1.0/(1+ math.exp(-a))\n",
    "    return(s)\n",
    "def Sigmoid_vector(a):\n",
    "    s=1.0/(1+ np.exp(-a))\n",
    "    return(s)\n",
    "for i in range(10000):\n",
    "    \n",
    "    #выбрать объект из выборки\n",
    "    #рассчитать потерю\n",
    "    #сделать шаг в весах\n",
    "    #оценить функционал Q\n",
    "    #проверить евклидово расстояние\n",
    "    #пока не сойдется Q - повторять\n",
    "    w1_new=w1+ np.mean((0.1*(1-Sigmoid_vector(target*(w1*pr_1+w2*pr_2)))*(target*pr_1)))-k*C*w1\n",
    "    w2_new=w2+ np.mean((0.1*(1-Sigmoid_vector(target*(w1*pr_1+w2*pr_2)))*(target*pr_2)))-k*C*w2\n",
    "    if (np.sqrt(np.square(w1-w1_new)+np.square(w2_new-w2))<= (10e-5)) :\n",
    "        break\n",
    "    ugdn=[]\n",
    "    for ic in range(len(pr_1)):\n",
    "        t=Sigmoid(w1*pr_1[ic]+w2*pr_2[ic])\n",
    "        ugdn.append(t)\n",
    "    w2=w2_new\n",
    "    w1=w1_new\n",
    "C=10\n",
    "w1=0\n",
    "w2=0\n",
    "for i in range(10000):\n",
    "    \n",
    "    #выбрать объект из выборки\n",
    "    #рассчитать потерю\n",
    "    #сделать шаг в весах\n",
    "    #оценить функционал Q\n",
    "    #проверить евклидово расстояние\n",
    "    #пока не сойдется Q - повторять\n",
    "    w1_new=w1+ np.mean((0.1*(1-Sigmoid_vector(target*(w1*pr_1+w2*pr_2)))*(target*pr_1)))-k*C*w1\n",
    "    w2_new=w2+ np.mean((0.1*(1-Sigmoid_vector(target*(w1*pr_1+w2*pr_2)))*(target*pr_2)))-k*C*w2\n",
    "    if (np.sqrt(np.square(w2-w2_new)+np.square(w1-w1_new))<= (10e-5)) :\n",
    "        print(w2,w1)\n",
    "        break\n",
    "    ugdn_reg=[]\n",
    "    for ic in range(len(pr_1)):\n",
    "        t=Sigmoid(w1*pr_1[ic]+w2*pr_2[ic])\n",
    "        ugdn_reg.append(t)\n",
    "    w2=w2_new\n",
    "    w1=w1_new\n",
    "    \n",
    "print(roc_auc_score(target, ugdn))\n",
    "print(roc_auc_score(target, ugdn_reg))\n",
    "    \n",
    "    \n"
   ]
  },
  {
   "cell_type": "code",
   "execution_count": 193,
   "metadata": {},
   "outputs": [
    {
     "name": "stdout",
     "output_type": "stream",
     "text": [
      "200\n",
      "0.535\n",
      "0.5584415584415584\n",
      "0.4215686274509804\n",
      "0.48044692737430167\n",
      "0.719187675070028\n",
      "0.7086834733893557\n",
      "0.6351540616246498\n",
      "0.6919267707082833\n",
      "Последнее задание\n",
      "0.6302521008403361\n",
      "0.6228070175438597\n",
      "0.6065573770491803\n",
      "0.6517857142857143\n"
     ]
    }
   ],
   "source": [
    "#задание 4 неделя 3\n",
    "import numpy as np\n",
    "import pandas\n",
    "from sklearn.linear_model import LogisticRegression\n",
    "from sklearn.metrics import accuracy_score\n",
    "from sklearn.metrics import precision_score\n",
    "from sklearn.metrics import recall_score\n",
    "from sklearn.metrics import f1_score\n",
    "from sklearn.metrics import roc_auc_score\n",
    "from sklearn.metrics import precision_recall_curve\n",
    "data=pandas.read_csv(\"classification.csv\")\n",
    "true=data.iloc[:,0]\n",
    "pred=data.iloc[:,1]\n",
    "cnt=1\n",
    "tp=0\n",
    "fp=0\n",
    "tn=0\n",
    "fn=0\n",
    "arr_true=np.array(len(true))\n",
    "arr_pred=np.array(len(pred))\n",
    "print(len(true))\n",
    "while cnt<len(true) :\n",
    "    if (true[cnt]==pred[cnt] and true[cnt]=='1'):\n",
    "            tp+=1\n",
    "    if (true[cnt]==pred[cnt] and true[cnt]=='0'):\n",
    "            tn+=1\n",
    "    if (true[cnt]!=pred[cnt] and true[cnt]=='0'):\n",
    "            fp+=1\n",
    "    if (true[cnt]!=pred[cnt] and true[cnt]=='1'):\n",
    "            fn+=1\n",
    "    cnt+=1\n",
    "\n",
    "print(accuracy_score(true, pred))\n",
    "print(precision_score(true, pred))\n",
    "print(recall_score(true, pred))\n",
    "print(f1_score(true, pred))\n",
    "scores_data=pandas.read_csv(\"scores.csv\")\n",
    "y_true = scores_data.iloc[:,0]\n",
    "y_scores_lr =scores_data.iloc[:,1]\n",
    "y_scores_svm = scores_data.iloc[:,2]\n",
    "y_scores_knn = scores_data.iloc[:,3]\n",
    "y_scores_tree = scores_data.iloc[:,4]\n",
    "print(roc_auc_score(y_true, y_scores_lr))\n",
    "print(roc_auc_score(y_true, y_scores_svm))\n",
    "print(roc_auc_score(y_true, y_scores_knn))\n",
    "print(roc_auc_score(y_true, y_scores_tree))\n",
    "precision, recall, thresholds = precision_recall_curve(y_true, y_scores_lr)\n",
    "pr=np.array(len(precision))\n",
    "cnt=0\n",
    "max=precision[0]\n",
    "for i in precision:\n",
    "    if(recall[cnt]>=0.7 and i>max):\n",
    "        max=i\n",
    "    cnt+=1  \n",
    "print(\"Последнее задание\")\n",
    "print(max)\n",
    "precision2, recall2, thresholds2 = precision_recall_curve(y_true, y_scores_svm)\n",
    "pr2=np.array(len(precision2))\n",
    "cnt=0\n",
    "max2=precision2[0]\n",
    "for i in precision2:\n",
    "    if(recall2[cnt]>=0.7 and i>max2):\n",
    "        max2=i\n",
    "    cnt+=1    \n",
    "print(max2)\n",
    "precision3, recall3, thresholds3 = precision_recall_curve(y_true, y_scores_knn)\n",
    "pr3=np.array(len(precision3))\n",
    "cnt=0\n",
    "max3=precision3[0]\n",
    "for i in precision3:\n",
    "    if(recall3[cnt]>=0.7 and i>max3):\n",
    "        max3=i\n",
    "    cnt+=1    \n",
    "print(max3)\n",
    "precision4, recall4, thresholds4 = precision_recall_curve(y_true, y_scores_tree)\n",
    "pr4=np.array(len(precision4))\n",
    "cnt=0\n",
    "max4=precision4[0]\n",
    "for i in precision4:\n",
    "    if(recall4[cnt]>=0.7 and i>max4):\n",
    "        max4=i\n",
    "    cnt+=1    \n",
    "print(max4)\n",
    "        \n",
    "    \n"
   ]
  },
  {
   "cell_type": "code",
   "execution_count": 172,
   "metadata": {},
   "outputs": [
    {
     "ename": "SyntaxError",
     "evalue": "invalid syntax (<ipython-input-172-58297d16b1a3>, line 4)",
     "output_type": "error",
     "traceback": [
      "\u001b[1;36m  File \u001b[1;32m\"<ipython-input-172-58297d16b1a3>\"\u001b[1;36m, line \u001b[1;32m4\u001b[0m\n\u001b[1;33m    print(idx)\u001b[0m\n\u001b[1;37m        ^\u001b[0m\n\u001b[1;31mSyntaxError\u001b[0m\u001b[1;31m:\u001b[0m invalid syntax\n"
     ]
    }
   ],
   "source": [
    "import numpy as np\n",
    "arr=np.array([1,-2,90,54,11,3,45])\n",
    "idx = (abs(arr).argsort()[:3]\n",
    "print(idx)"
   ]
  },
  {
   "cell_type": "code",
   "execution_count": 215,
   "metadata": {},
   "outputs": [
    {
     "name": "stdout",
     "output_type": "stream",
     "text": [
      "[5]\n"
     ]
    }
   ],
   "source": [
    "tygr=[]\n",
    "tygr.append(5)\n",
    "print(tygr)"
   ]
  }
 ],
 "metadata": {
  "kernelspec": {
   "display_name": "Python 3",
   "language": "python",
   "name": "python3"
  },
  "language_info": {
   "codemirror_mode": {
    "name": "ipython",
    "version": 3
   },
   "file_extension": ".py",
   "mimetype": "text/x-python",
   "name": "python",
   "nbconvert_exporter": "python",
   "pygments_lexer": "ipython3",
   "version": "3.7.3"
  }
 },
 "nbformat": 4,
 "nbformat_minor": 2
}
