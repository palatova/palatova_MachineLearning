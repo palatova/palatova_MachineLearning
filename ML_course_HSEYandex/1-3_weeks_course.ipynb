{
 "cells": [
  {
   "cell_type": "code",
   "execution_count": 140,
   "metadata": {},
   "outputs": [
    {
     "name": "stdout",
     "output_type": "stream",
     "text": [
      "0.7352380952380952\n"
     ]
    },
    {
     "name": "stderr",
     "output_type": "stream",
     "text": [
      "C:\\pyp2\\lib\\site-packages\\ipykernel_launcher.py:26: DataConversionWarning: Data with input dtype int64, float64 were all converted to float64 by the scale function.\n"
     ]
    },
    {
     "name": "stdout",
     "output_type": "stream",
     "text": [
      "Hello\n",
      "0.9773015873015873\n",
      "27\n",
      "Значение 2 задания\n",
      "-16.030646734221644\n",
      "0\n",
      "29.69911764705882\n",
      "28.0\n",
      "0.4148376986201567\n",
      "[0.11920293 0.31502304 0.2545982  0.31117584]\n"
     ]
    },
    {
     "name": "stderr",
     "output_type": "stream",
     "text": [
      "C:\\pyp2\\lib\\site-packages\\ipykernel_launcher.py:56: SettingWithCopyWarning: \n",
      "A value is trying to be set on a copy of a slice from a DataFrame.\n",
      "Try using .loc[row_indexer,col_indexer] = value instead\n",
      "\n",
      "See the caveats in the documentation: http://pandas.pydata.org/pandas-docs/stable/indexing.html#indexing-view-versus-copy\n"
     ]
    }
   ],
   "source": [
    "import numpy as np\n",
    "import pandas\n",
    "from sklearn.neighbors import KNeighborsClassifier\n",
    "from sklearn.model_selection import cross_val_score\n",
    "from sklearn.model_selection import KFold\n",
    "from sklearn import preprocessing\n",
    "from sklearn.datasets import load_boston\n",
    "from sklearn.neighbors import KNeighborsRegressor\n",
    "data = pandas.read_csv(\"titanic.csv\", index_col= \"PassengerId\")\n",
    "\n",
    "#задание 2 недели\n",
    "##\n",
    "wino_data=pandas.read_csv(\"wine.data\");\n",
    "classes=wino_data.iloc[:,0]\n",
    "priznaki=wino_data.iloc[:,1:16]\n",
    "kf = KFold(n_splits=5, shuffle=True, random_state=42)\n",
    "#print(cross_val_score(classes,P_scaled,cv=kf))\n",
    "count_neighbour=np.arange(1,51)\n",
    "pustoy_massiv=[]\n",
    "for i in count_neighbour:\n",
    " knn = KNeighborsClassifier(n_neighbors=i)\n",
    " cross_val = cross_val_score(knn, priznaki, classes, cv=kf , scoring='accuracy')\n",
    " pustoy_massiv.append(cross_val.mean())\n",
    "print(max(pustoy_massiv))\n",
    "##\n",
    "P_scaled = preprocessing.scale(priznaki)\n",
    "massiv=[]\n",
    "for i in count_neighbour:\n",
    "    knn=KNeighborsClassifier(n_neighbors=i)\n",
    "    cross_val=cross_val_score(knn, P_scaled,classes,cv=kf, scoring='accuracy')\n",
    "    massiv.append(cross_val.mean())\n",
    "print(\"Hello\")\n",
    "print(max(massiv))\n",
    "print(massiv.index(max(massiv))) \n",
    "\n",
    "\n",
    "#2 неделя выбор метрики\n",
    "dataset=load_boston()\n",
    "D_scaled = preprocessing.scale(dataset.data)\n",
    "h=np.linspace (1.0 ,  10.0 ,  num = 200 )\n",
    "i=1\n",
    "massiv1=[]\n",
    "for i in h :\n",
    "    neigh = KNeighborsRegressor(p=i, metric='minkowski',n_neighbors=5,weights='distance')\n",
    "    cross_val=cross_val_score(neigh, D_scaled,dataset.target,cv=kf,scoring='neg_mean_squared_error')\n",
    "    massiv1.append(cross_val.mean())\n",
    "print(\"Значение 2 задания\")\n",
    "print(max(massiv1))\n",
    "print(massiv1.index(max(massiv1)))\n",
    "#конец 2 недели\n",
    "sr=np.mean(data['Age'])\n",
    "med=np.nanmedian(data['Age'])\n",
    "corr= data['SibSp'].corr(data['Parch'])\n",
    "data1=data[['Pclass','Fare','Age','Sex']]\n",
    "d = {'male': True, 'female': False}\n",
    "data1['Sex']=data1['Sex'].map(d)\n",
    "data1=data1.fillna(data1.mean())\n",
    "data2=data['Survived'] \n",
    "from sklearn.tree import DecisionTreeClassifier\n",
    "clf = DecisionTreeClassifier()\n",
    "clf.fit(data1, data2)\n",
    "importances = clf.feature_importances_\n",
    "print(sr)\n",
    "print(med)\n",
    "print(corr)\n",
    "print(importances)\n",
    "data['Name'] = data['Name'].str.findall(r'^\\w+')\n",
    "name_passengers=data['Name']\n"
   ]
  },
  {
   "cell_type": "code",
   "execution_count": 75,
   "metadata": {},
   "outputs": [
    {
     "name": "stdout",
     "output_type": "stream",
     "text": [
      "(array([1, 4, 5], dtype=int64),)\n"
     ]
    }
   ],
   "source": [
    "import numpy as np\n",
    "Z = np.array([[4, 5, 0], \n",
    "             [1, 9, 3],              \n",
    "             [5, 1, 1],\n",
    "             [3, 3, 3], \n",
    "             [9, 9, 9], \n",
    "             [4, 7, 1]])\n",
    "m = np.sum(Z, axis=1)\n",
    "m=np.nonzero(m>10)\n",
    "print(m)\n"
   ]
  },
  {
   "cell_type": "code",
   "execution_count": 13,
   "metadata": {
    "scrolled": true
   },
   "outputs": [
    {
     "name": "stdout",
     "output_type": "stream",
     "text": [
      "[[1. 0. 0.]\n",
      " [0. 1. 0.]\n",
      " [0. 0. 1.]]\n",
      "[[1. 0. 0.]\n",
      " [0. 1. 0.]\n",
      " [0. 0. 1.]\n",
      " [1. 0. 0.]\n",
      " [0. 1. 0.]\n",
      " [0. 0. 1.]]\n"
     ]
    }
   ],
   "source": [
    "import numpy as np\n",
    "Z1=np.eye(3)\n",
    "Z2=np.eye(3)\n",
    "print(Z1)\n",
    "U=np.vstack((Z1, Z2))\n",
    "print(U)"
   ]
  }
 ],
 "metadata": {
  "kernelspec": {
   "display_name": "Python 3",
   "language": "python",
   "name": "python3"
  },
  "language_info": {
   "codemirror_mode": {
    "name": "ipython",
    "version": 3
   },
   "file_extension": ".py",
   "mimetype": "text/x-python",
   "name": "python",
   "nbconvert_exporter": "python",
   "pygments_lexer": "ipython3",
   "version": "3.7.3"
  }
 },
 "nbformat": 4,
 "nbformat_minor": 2
}
